{
  "nbformat": 4,
  "nbformat_minor": 0,
  "metadata": {
    "kernelspec": {
      "display_name": "Python 3",
      "language": "python",
      "name": "python3"
    },
    "language_info": {
      "codemirror_mode": {
        "name": "ipython",
        "version": 3
      },
      "file_extension": ".py",
      "mimetype": "text/x-python",
      "name": "python",
      "nbconvert_exporter": "python",
      "pygments_lexer": "ipython3",
      "version": "3.7.6"
    },
    "colab": {
      "name": "lang2.ipynb",
      "provenance": [],
      "collapsed_sections": []
    }
  },
  "cells": [
    {
      "cell_type": "code",
      "metadata": {
        "colab": {
          "base_uri": "https://localhost:8080/"
        },
        "id": "6Jdp_-9Ek6Ff",
        "outputId": "48e96191-3aaf-474c-e785-fb67e43462fc"
      },
      "source": [
        "import numpy as np\n",
        "import pandas as pd\n",
        "from scipy import stats\n",
        "\n",
        "from sklearn.metrics import balanced_accuracy_score\n",
        "from sklearn.model_selection import train_test_split\n",
        "\n",
        "from tqdm import tqdm\n",
        "tqdm.pandas()\n",
        "\n",
        "import seaborn as sns\n",
        "sns.set(font_scale=1.5)\n",
        "\n",
        "import matplotlib.pyplot as plt\n",
        "import matplotlib.style as style\n",
        "%matplotlib inline\n",
        "\n",
        "import warnings\n",
        "warnings.filterwarnings(\"ignore\")"
      ],
      "execution_count": 1,
      "outputs": [
        {
          "output_type": "stream",
          "text": [
            "/usr/local/lib/python3.7/dist-packages/tqdm/std.py:658: FutureWarning: The Panel class is removed from pandas. Accessing it from the top-level namespace will also be removed in the next version\n",
            "  from pandas import Panel\n"
          ],
          "name": "stderr"
        }
      ]
    },
    {
      "cell_type": "code",
      "metadata": {
        "colab": {
          "base_uri": "https://localhost:8080/"
        },
        "id": "IrwNR1uAlc96",
        "outputId": "26687ecd-120a-4c25-d801-38ca52148c51"
      },
      "source": [
        "from google.colab import drive\r\n",
        "drive.mount('/content/drive')"
      ],
      "execution_count": 2,
      "outputs": [
        {
          "output_type": "stream",
          "text": [
            "Drive already mounted at /content/drive; to attempt to forcibly remount, call drive.mount(\"/content/drive\", force_remount=True).\n"
          ],
          "name": "stdout"
        }
      ]
    },
    {
      "cell_type": "code",
      "metadata": {
        "colab": {
          "base_uri": "https://localhost:8080/"
        },
        "id": "TeKhw2gilpme",
        "outputId": "2432fefe-ffe8-4c92-8385-9aaa52557e77"
      },
      "source": [
        "!unzip '/content/drive/MyDrive/dataset/introml2020-3.zip' -d data"
      ],
      "execution_count": 3,
      "outputs": [
        {
          "output_type": "stream",
          "text": [
            "Archive:  /content/drive/MyDrive/dataset/introml2020-3.zip\n",
            "  inflating: data/test.csv           \n",
            "  inflating: data/train.csv          \n"
          ],
          "name": "stdout"
        }
      ]
    },
    {
      "cell_type": "code",
      "metadata": {
        "id": "pLKQScWhk6Fu"
      },
      "source": [
        "train = pd.read_csv('/content/data/train.csv', nrows=1000000)"
      ],
      "execution_count": 3,
      "outputs": []
    },
    {
      "cell_type": "code",
      "metadata": {
        "colab": {
          "base_uri": "https://localhost:8080/"
        },
        "id": "hUZVy4Ugk6Fx",
        "outputId": "69d6f496-81f9-4724-9724-0fa4b44cbf20"
      },
      "source": [
        "train.sentence.head(5)"
      ],
      "execution_count": 4,
      "outputs": [
        {
          "output_type": "execute_result",
          "data": {
            "text/plain": [
              "0    Pensez à la communication , le discours , les ...\n",
              "1    Můžete si ji pronajmout , vzít na splátky , ko...\n",
              "2    Každý starosta pochopil , že když mají tyto fo...\n",
              "3    Det är ytterligare bevis , men ändå — Jag krit...\n",
              "4                                  كان الأمر لا يصدق .\n",
              "Name: sentence, dtype: object"
            ]
          },
          "metadata": {
            "tags": []
          },
          "execution_count": 4
        }
      ]
    },
    {
      "cell_type": "code",
      "metadata": {
        "colab": {
          "base_uri": "https://localhost:8080/"
        },
        "id": "pGTSaY-Wk6F2",
        "outputId": "eb5fd221-4fed-46cb-e3a1-4c13d0a3d1ba"
      },
      "source": [
        "train.shape"
      ],
      "execution_count": 5,
      "outputs": [
        {
          "output_type": "execute_result",
          "data": {
            "text/plain": [
              "(1000000, 2)"
            ]
          },
          "metadata": {
            "tags": []
          },
          "execution_count": 5
        }
      ]
    },
    {
      "cell_type": "code",
      "metadata": {
        "colab": {
          "base_uri": "https://localhost:8080/"
        },
        "id": "o27AMFn8k6F5",
        "outputId": "cbc9bdc0-dd12-4c11-9320-181c06b94fbe"
      },
      "source": [
        "train.drop_duplicates(inplace=True)\n",
        "train.shape"
      ],
      "execution_count": 6,
      "outputs": [
        {
          "output_type": "execute_result",
          "data": {
            "text/plain": [
              "(869705, 2)"
            ]
          },
          "metadata": {
            "tags": []
          },
          "execution_count": 6
        }
      ]
    },
    {
      "cell_type": "code",
      "metadata": {
        "id": "Cm2nUL8R4g-w"
      },
      "source": [
        "sent1 = 'гэта што калі мы не яны як але ён каб дзякуй больш пра на вы'\r\n",
        "sent2 = 'що це тому ми чи дуже які щоб дякую якщо було вона від мене ось'\r\n",
        "sent3 = 'это что мы не как на вы они но из то он так для аплодисменты'\r\n",
        "sent4 = '笑聲 掌聲 謝謝 所以 現在 事實上 當然 因此 謝謝大家 對吧 但是 鼓掌 謝謝各位 他說 我說'\r\n",
        "sent = set([sent1, sent2, sent3, sent4])"
      ],
      "execution_count": 7,
      "outputs": []
    },
    {
      "cell_type": "code",
      "metadata": {
        "id": "HMYjhxl-4kBN"
      },
      "source": [
        "train = train[train['sentence'].map(lambda x: not x in sent)]"
      ],
      "execution_count": 8,
      "outputs": []
    },
    {
      "cell_type": "code",
      "metadata": {
        "id": "USbEcavUk6F8"
      },
      "source": [
        "train.sentence = train.sentence.str.lower()"
      ],
      "execution_count": 9,
      "outputs": []
    },
    {
      "cell_type": "code",
      "metadata": {
        "id": "iDcYEan8k6F8"
      },
      "source": [
        "# все символы/токены, создающие шум (non-related chars)\n",
        "punc_list_0 = [\n",
        "    '!', '\"', '#', '$', '%', '&', \"'\", '(', ')', '*', '+', ',', '-', '.', '/', \n",
        "    ':', ';', '<', '=', '>', '?', '@', '[', ']', '^', '_', '`', '{',\n",
        "    '}', '~', '/', '—', '。', '・', '„' , '”',\n",
        "    '？', '：', '1', '2', '3', '4', '5', '6', '7', '8', '9', '0',\n",
        "    '，',\n",
        "] # `|` is not present here\n",
        "punc_list_1 = [\n",
        "    '\\\\', '&quot;', 'TED', '&apos;', 'quot', 'apos',\n",
        "]"
      ],
      "execution_count": 10,
      "outputs": []
    },
    {
      "cell_type": "code",
      "metadata": {
        "id": "8aFGLY1K8OWj"
      },
      "source": [
        "transtab = str.maketrans(dict.fromkeys(punc_list_0, ''))\r\n",
        "train['sentence'] = '|'.join(train['sentence'].tolist()).translate(transtab).split('|')"
      ],
      "execution_count": 11,
      "outputs": []
    },
    {
      "cell_type": "code",
      "metadata": {
        "id": "miFzFjXNk6F_"
      },
      "source": [
        "for token in punc_list_1:\n",
        "    train['sentence'] = train['sentence'].str.replace(token, '')"
      ],
      "execution_count": 12,
      "outputs": []
    },
    {
      "cell_type": "code",
      "metadata": {
        "id": "CnESD4Yak6F_"
      },
      "source": [
        "import scipy.sparse as sp\n",
        "from sklearn.preprocessing import LabelEncoder\n",
        "from sklearn.feature_extraction.text import (\n",
        "    TfidfVectorizer,\n",
        "    CountVectorizer,\n",
        ")\n",
        "from sklearn.linear_model import LogisticRegression"
      ],
      "execution_count": 13,
      "outputs": []
    },
    {
      "cell_type": "code",
      "metadata": {
        "id": "IGEjvVYHk6GB"
      },
      "source": [
        "X_train, y_train = train.sentence, train.language"
      ],
      "execution_count": 14,
      "outputs": []
    },
    {
      "cell_type": "code",
      "metadata": {
        "id": "ZD4qMRQck6GD"
      },
      "source": [
        "labels = LabelEncoder()\n",
        "y_train = labels.fit_transform(y_train)"
      ],
      "execution_count": 15,
      "outputs": []
    },
    {
      "cell_type": "code",
      "metadata": {
        "id": "mkrG55Rfk6GE"
      },
      "source": [
        "tfidf = TfidfVectorizer(min_df=3)\n",
        "tfidf_ngrams = TfidfVectorizer(analyzer='char', ngram_range=(1, 2), min_df=3)"
      ],
      "execution_count": 16,
      "outputs": []
    },
    {
      "cell_type": "code",
      "metadata": {
        "id": "Iwioip_Xk6GF"
      },
      "source": [
        "X_train = sp.hstack(\n",
        "    (tfidf.fit_transform(X_train), \n",
        "     tfidf_ngrams.fit_transform(X_train)), \n",
        "    format='csr')"
      ],
      "execution_count": 17,
      "outputs": []
    },
    {
      "cell_type": "code",
      "metadata": {
        "colab": {
          "base_uri": "https://localhost:8080/"
        },
        "id": "tdEtyq9Bk6GG",
        "outputId": "d29c44c1-3a8c-4bef-f4dd-024c66f3872d"
      },
      "source": [
        "X_train.shape"
      ],
      "execution_count": 18,
      "outputs": [
        {
          "output_type": "execute_result",
          "data": {
            "text/plain": [
              "(869699, 463430)"
            ]
          },
          "metadata": {
            "tags": []
          },
          "execution_count": 18
        }
      ]
    },
    {
      "cell_type": "code",
      "metadata": {
        "id": "c-76Fsbrk6GH"
      },
      "source": [
        "baseline_model = LogisticRegression(\n",
        "    C=1.0,\n",
        "    solver='saga',\n",
        "    multi_class='multinomial',\n",
        "    max_iter=50,\n",
        "    n_jobs=-1,\n",
        ")"
      ],
      "execution_count": 19,
      "outputs": []
    },
    {
      "cell_type": "code",
      "metadata": {
        "colab": {
          "base_uri": "https://localhost:8080/"
        },
        "id": "5PPpbZDWk6GJ",
        "outputId": "f6a243a7-de94-4e3c-a7ae-e285e6ef6667"
      },
      "source": [
        "baseline_model.fit(X_train, y_train)"
      ],
      "execution_count": 20,
      "outputs": [
        {
          "output_type": "execute_result",
          "data": {
            "text/plain": [
              "LogisticRegression(C=1.0, class_weight=None, dual=False, fit_intercept=True,\n",
              "                   intercept_scaling=1, l1_ratio=None, max_iter=50,\n",
              "                   multi_class='multinomial', n_jobs=-1, penalty='l2',\n",
              "                   random_state=None, solver='saga', tol=0.0001, verbose=0,\n",
              "                   warm_start=False)"
            ]
          },
          "metadata": {
            "tags": []
          },
          "execution_count": 20
        }
      ]
    },
    {
      "cell_type": "code",
      "metadata": {
        "id": "dSdRmKbEHTxZ"
      },
      "source": [
        "del train, X_train, y_train"
      ],
      "execution_count": 21,
      "outputs": []
    },
    {
      "cell_type": "code",
      "metadata": {
        "colab": {
          "base_uri": "https://localhost:8080/"
        },
        "id": "aqT2_1vi6Om4",
        "outputId": "5ebabad1-f3c1-4dbd-c4de-86571bb5029f"
      },
      "source": [
        "test = pd.read_csv('/content/data/test.csv')\r\n",
        "test.shape"
      ],
      "execution_count": 22,
      "outputs": [
        {
          "output_type": "execute_result",
          "data": {
            "text/plain": [
              "(2784634, 2)"
            ]
          },
          "metadata": {
            "tags": []
          },
          "execution_count": 22
        }
      ]
    },
    {
      "cell_type": "code",
      "metadata": {
        "id": "Wy3z3DpPKK3F"
      },
      "source": [
        "from sklearn.model_selection import KFold\r\n",
        "kf = KFold(n_splits=17, shuffle=False)"
      ],
      "execution_count": 27,
      "outputs": []
    },
    {
      "cell_type": "code",
      "metadata": {
        "id": "lXHgKHh96VzO"
      },
      "source": [
        "test.sentence = test.sentence.str.lower()"
      ],
      "execution_count": 24,
      "outputs": []
    },
    {
      "cell_type": "code",
      "metadata": {
        "id": "rfirQp2EH_No"
      },
      "source": [
        "test['sentence'] = '|'.join(test['sentence'].tolist()).translate(transtab).split('|')"
      ],
      "execution_count": 25,
      "outputs": []
    },
    {
      "cell_type": "code",
      "metadata": {
        "id": "rJeTtMzG6cBL"
      },
      "source": [
        "for token in punc_list_1:\r\n",
        "    test['sentence'] = test['sentence'].str.replace(token, '')"
      ],
      "execution_count": 26,
      "outputs": []
    },
    {
      "cell_type": "code",
      "metadata": {
        "colab": {
          "base_uri": "https://localhost:8080/"
        },
        "id": "ZC29YeeGLPFX",
        "outputId": "e6c6fd92-34f2-4f5e-9830-18671a66f6b5"
      },
      "source": [
        "prediction = np.zeros(len(test))\r\n",
        "for _, test_index in tqdm(kf.split(test.sentence)):\r\n",
        "    X_test = test.sentence[test_index]\r\n",
        "    X_test = sp.hstack(\r\n",
        "       (tfidf.transform(X_test), \r\n",
        "        tfidf_ngrams.transform(X_test)), \r\n",
        "        format='csr',\r\n",
        "    )\r\n",
        "    prediction[test_index] = baseline_model.predict(X_test)"
      ],
      "execution_count": 28,
      "outputs": [
        {
          "output_type": "stream",
          "text": [
            "17it [06:27, 22.77s/it]\n"
          ],
          "name": "stderr"
        }
      ]
    },
    {
      "cell_type": "code",
      "metadata": {
        "id": "8k1SJjFT_kt_"
      },
      "source": [
        "df = pd.DataFrame()\r\n",
        "df['index'] = np.arange(len(prediction))\r\n",
        "df['language'] = labels.inverse_transform(prediction.astype(int))"
      ],
      "execution_count": 37,
      "outputs": []
    },
    {
      "cell_type": "code",
      "metadata": {
        "id": "WZtwhj88_y5n"
      },
      "source": [
        "df.to_csv('submission_0.csv', index=None)"
      ],
      "execution_count": 40,
      "outputs": []
    }
  ]
}
